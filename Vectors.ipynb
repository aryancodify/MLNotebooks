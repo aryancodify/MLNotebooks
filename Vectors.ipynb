{
 "cells": [
  {
   "cell_type": "code",
   "execution_count": 3,
   "metadata": {},
   "outputs": [],
   "source": [
    "a = [ 2,-1,3,-5]\n",
    "b=[1,-3,4,5]\n",
    "c=[4,-2,1,0]\n",
    "d=[-1,3,-2,-10]\n",
    "e=[-2,3,1,8]"
   ]
  },
  {
   "cell_type": "code",
   "execution_count": 5,
   "metadata": {},
   "outputs": [
    {
     "name": "stdout",
     "output_type": "stream",
     "text": [
      "-0.17937941173234995\n",
      "0.454256762579498\n",
      "0.5848976518656018\n",
      "-0.7977614967232844\n"
     ]
    }
   ],
   "source": [
    "from scipy import spatial\n",
    "print(1 - spatial.distance.cosine(a, b))\n",
    "print(1 - spatial.distance.cosine(a, c))\n",
    "print(1 - spatial.distance.cosine(a, d))\n",
    "print(1 - spatial.distance.cosine(a, e))"
   ]
  },
  {
   "cell_type": "code",
   "execution_count": null,
   "metadata": {},
   "outputs": [],
   "source": []
  },
  {
   "cell_type": "code",
   "execution_count": null,
   "metadata": {},
   "outputs": [],
   "source": []
  }
 ],
 "metadata": {
  "kernelspec": {
   "display_name": "Python 3",
   "language": "python",
   "name": "python3"
  },
  "language_info": {
   "codemirror_mode": {
    "name": "ipython",
    "version": 3
   },
   "file_extension": ".py",
   "mimetype": "text/x-python",
   "name": "python",
   "nbconvert_exporter": "python",
   "pygments_lexer": "ipython3",
   "version": "3.6.4"
  }
 },
 "nbformat": 4,
 "nbformat_minor": 2
}
