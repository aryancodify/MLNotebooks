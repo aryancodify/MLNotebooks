{
 "cells": [
  {
   "cell_type": "markdown",
   "metadata": {},
   "source": [
    "# Grouping and Summarising Dataframes\n",
    "\n",
    "Grouping and aggregation are some of the most frequently used operations in data analysis, especially while doing exploratory data analysis (EDA), where comparing summary statistics across groups of data is common.\n",
    "\n",
    "For e.g., in the retail sales data we are working with, you may want to compare the average sales of various regions, or compare the total profit of two customer segments. \n",
    "\n",
    "Grouping analysis can be thought of as having three parts:\n",
    "1. **Splitting** the data into groups (e.g. groups of customer segments, product categories, etc.)\n",
    "2. **Applying** a function to each group (e.g. mean or total sales of each customer segment)\n",
    "3. **Combining** the results into a data structure showing the summary statistics\n",
    "\n",
    "Let's work through some examples."
   ]
  },
  {
   "cell_type": "code",
   "execution_count": 7,
   "metadata": {},
   "outputs": [],
   "source": [
    "# Loading libraries and files\n",
    "import numpy as np\n",
    "import pandas as pd\n",
    "\n",
    "market_df = pd.read_csv(\"D:\\\\upgrad\\\\Introduction_to_Pandas\\\\Introduction_to_Pandas\\\\global_sales_data\\\\market_fact.csv\")\n",
    "customer_df = pd.read_csv(\"D:\\\\upgrad\\\\Introduction_to_Pandas\\\\Introduction_to_Pandas\\\\global_sales_data\\\\cust_dimen.csv\")\n",
    "product_df = pd.read_csv(\"D:\\\\upgrad\\\\Introduction_to_Pandas\\\\Introduction_to_Pandas\\\\global_sales_data\\\\prod_dimen.csv\")\n",
    "shipping_df = pd.read_csv(\"D:\\\\upgrad\\\\Introduction_to_Pandas\\\\Introduction_to_Pandas\\\\global_sales_data\\\\shipping_dimen.csv\")\n",
    "orders_df = pd.read_csv(\"D:\\\\upgrad\\\\Introduction_to_Pandas\\\\Introduction_to_Pandas\\\\global_sales_data\\\\orders_dimen.csv\")"
   ]
  },
  {
   "cell_type": "markdown",
   "metadata": {},
   "source": [
    "Say you want to understand how well or poorly the business is doing in various customer segments, regions, product categories etc. Specifically, you want to identify areas of business where you are incurrring heavy losses, and want to take action accordingly.\n",
    "\n",
    "To do that, we will answer questions such as:\n",
    "* Which customer segments are the least profitable?\n",
    "* Which product categories and sub-categories are the least profitable?\n",
    "* Customers in which geographic region cause the most losses?\n",
    "* Etc.\n",
    "\n",
    "First, we will merge all the dataframes, so we have all the data in one ```master_df```."
   ]
  },
  {
   "cell_type": "code",
   "execution_count": 4,
   "metadata": {},
   "outputs": [
    {
     "data": {
      "text/html": [
       "<div>\n",
       "<style scoped>\n",
       "    .dataframe tbody tr th:only-of-type {\n",
       "        vertical-align: middle;\n",
       "    }\n",
       "\n",
       "    .dataframe tbody tr th {\n",
       "        vertical-align: top;\n",
       "    }\n",
       "\n",
       "    .dataframe thead th {\n",
       "        text-align: right;\n",
       "    }\n",
       "</style>\n",
       "<table border=\"1\" class=\"dataframe\">\n",
       "  <thead>\n",
       "    <tr style=\"text-align: right;\">\n",
       "      <th></th>\n",
       "      <th>Ord_id</th>\n",
       "      <th>Prod_id</th>\n",
       "      <th>Ship_id</th>\n",
       "      <th>Cust_id</th>\n",
       "      <th>Sales</th>\n",
       "      <th>Discount</th>\n",
       "      <th>Order_Quantity</th>\n",
       "      <th>Profit</th>\n",
       "      <th>Shipping_Cost</th>\n",
       "      <th>Product_Base_Margin</th>\n",
       "      <th>...</th>\n",
       "      <th>Region</th>\n",
       "      <th>Customer_Segment</th>\n",
       "      <th>Product_Category</th>\n",
       "      <th>Product_Sub_Category</th>\n",
       "      <th>Order_ID_x</th>\n",
       "      <th>Ship_Mode</th>\n",
       "      <th>Ship_Date</th>\n",
       "      <th>Order_ID_y</th>\n",
       "      <th>Order_Date</th>\n",
       "      <th>Order_Priority</th>\n",
       "    </tr>\n",
       "  </thead>\n",
       "  <tbody>\n",
       "    <tr>\n",
       "      <th>0</th>\n",
       "      <td>Ord_5446</td>\n",
       "      <td>Prod_16</td>\n",
       "      <td>SHP_7609</td>\n",
       "      <td>Cust_1818</td>\n",
       "      <td>136.81</td>\n",
       "      <td>0.01</td>\n",
       "      <td>23</td>\n",
       "      <td>-30.51</td>\n",
       "      <td>3.60</td>\n",
       "      <td>0.56</td>\n",
       "      <td>...</td>\n",
       "      <td>WEST</td>\n",
       "      <td>CORPORATE</td>\n",
       "      <td>OFFICE SUPPLIES</td>\n",
       "      <td>SCISSORS, RULERS AND TRIMMERS</td>\n",
       "      <td>36262</td>\n",
       "      <td>REGULAR AIR</td>\n",
       "      <td>28-07-2010</td>\n",
       "      <td>36262</td>\n",
       "      <td>27-07-2010</td>\n",
       "      <td>NOT SPECIFIED</td>\n",
       "    </tr>\n",
       "    <tr>\n",
       "      <th>1</th>\n",
       "      <td>Ord_5446</td>\n",
       "      <td>Prod_4</td>\n",
       "      <td>SHP_7610</td>\n",
       "      <td>Cust_1818</td>\n",
       "      <td>4701.69</td>\n",
       "      <td>0.00</td>\n",
       "      <td>26</td>\n",
       "      <td>1148.90</td>\n",
       "      <td>2.50</td>\n",
       "      <td>0.59</td>\n",
       "      <td>...</td>\n",
       "      <td>WEST</td>\n",
       "      <td>CORPORATE</td>\n",
       "      <td>TECHNOLOGY</td>\n",
       "      <td>TELEPHONES AND COMMUNICATION</td>\n",
       "      <td>36262</td>\n",
       "      <td>EXPRESS AIR</td>\n",
       "      <td>27-07-2010</td>\n",
       "      <td>36262</td>\n",
       "      <td>27-07-2010</td>\n",
       "      <td>NOT SPECIFIED</td>\n",
       "    </tr>\n",
       "    <tr>\n",
       "      <th>2</th>\n",
       "      <td>Ord_5446</td>\n",
       "      <td>Prod_6</td>\n",
       "      <td>SHP_7608</td>\n",
       "      <td>Cust_1818</td>\n",
       "      <td>164.02</td>\n",
       "      <td>0.03</td>\n",
       "      <td>23</td>\n",
       "      <td>-47.64</td>\n",
       "      <td>6.15</td>\n",
       "      <td>0.37</td>\n",
       "      <td>...</td>\n",
       "      <td>WEST</td>\n",
       "      <td>CORPORATE</td>\n",
       "      <td>OFFICE SUPPLIES</td>\n",
       "      <td>PAPER</td>\n",
       "      <td>36262</td>\n",
       "      <td>EXPRESS AIR</td>\n",
       "      <td>28-07-2010</td>\n",
       "      <td>36262</td>\n",
       "      <td>27-07-2010</td>\n",
       "      <td>NOT SPECIFIED</td>\n",
       "    </tr>\n",
       "    <tr>\n",
       "      <th>3</th>\n",
       "      <td>Ord_2978</td>\n",
       "      <td>Prod_16</td>\n",
       "      <td>SHP_4112</td>\n",
       "      <td>Cust_1088</td>\n",
       "      <td>305.05</td>\n",
       "      <td>0.04</td>\n",
       "      <td>27</td>\n",
       "      <td>23.12</td>\n",
       "      <td>3.37</td>\n",
       "      <td>0.57</td>\n",
       "      <td>...</td>\n",
       "      <td>ONTARIO</td>\n",
       "      <td>HOME OFFICE</td>\n",
       "      <td>OFFICE SUPPLIES</td>\n",
       "      <td>SCISSORS, RULERS AND TRIMMERS</td>\n",
       "      <td>37863</td>\n",
       "      <td>REGULAR AIR</td>\n",
       "      <td>26-02-2011</td>\n",
       "      <td>37863</td>\n",
       "      <td>24-02-2011</td>\n",
       "      <td>HIGH</td>\n",
       "    </tr>\n",
       "    <tr>\n",
       "      <th>4</th>\n",
       "      <td>Ord_5484</td>\n",
       "      <td>Prod_16</td>\n",
       "      <td>SHP_7663</td>\n",
       "      <td>Cust_1820</td>\n",
       "      <td>322.82</td>\n",
       "      <td>0.05</td>\n",
       "      <td>35</td>\n",
       "      <td>-17.58</td>\n",
       "      <td>3.98</td>\n",
       "      <td>0.56</td>\n",
       "      <td>...</td>\n",
       "      <td>WEST</td>\n",
       "      <td>CONSUMER</td>\n",
       "      <td>OFFICE SUPPLIES</td>\n",
       "      <td>SCISSORS, RULERS AND TRIMMERS</td>\n",
       "      <td>53026</td>\n",
       "      <td>REGULAR AIR</td>\n",
       "      <td>03-03-2012</td>\n",
       "      <td>53026</td>\n",
       "      <td>26-02-2012</td>\n",
       "      <td>LOW</td>\n",
       "    </tr>\n",
       "  </tbody>\n",
       "</table>\n",
       "<p>5 rows × 22 columns</p>\n",
       "</div>"
      ],
      "text/plain": [
       "     Ord_id  Prod_id   Ship_id    Cust_id    Sales  Discount  Order_Quantity  \\\n",
       "0  Ord_5446  Prod_16  SHP_7609  Cust_1818   136.81      0.01              23   \n",
       "1  Ord_5446   Prod_4  SHP_7610  Cust_1818  4701.69      0.00              26   \n",
       "2  Ord_5446   Prod_6  SHP_7608  Cust_1818   164.02      0.03              23   \n",
       "3  Ord_2978  Prod_16  SHP_4112  Cust_1088   305.05      0.04              27   \n",
       "4  Ord_5484  Prod_16  SHP_7663  Cust_1820   322.82      0.05              35   \n",
       "\n",
       "    Profit  Shipping_Cost  Product_Base_Margin       ...         Region  \\\n",
       "0   -30.51           3.60                 0.56       ...           WEST   \n",
       "1  1148.90           2.50                 0.59       ...           WEST   \n",
       "2   -47.64           6.15                 0.37       ...           WEST   \n",
       "3    23.12           3.37                 0.57       ...        ONTARIO   \n",
       "4   -17.58           3.98                 0.56       ...           WEST   \n",
       "\n",
       "  Customer_Segment Product_Category           Product_Sub_Category Order_ID_x  \\\n",
       "0        CORPORATE  OFFICE SUPPLIES  SCISSORS, RULERS AND TRIMMERS      36262   \n",
       "1        CORPORATE       TECHNOLOGY   TELEPHONES AND COMMUNICATION      36262   \n",
       "2        CORPORATE  OFFICE SUPPLIES                          PAPER      36262   \n",
       "3      HOME OFFICE  OFFICE SUPPLIES  SCISSORS, RULERS AND TRIMMERS      37863   \n",
       "4         CONSUMER  OFFICE SUPPLIES  SCISSORS, RULERS AND TRIMMERS      53026   \n",
       "\n",
       "     Ship_Mode   Ship_Date Order_ID_y  Order_Date  Order_Priority  \n",
       "0  REGULAR AIR  28-07-2010      36262  27-07-2010   NOT SPECIFIED  \n",
       "1  EXPRESS AIR  27-07-2010      36262  27-07-2010   NOT SPECIFIED  \n",
       "2  EXPRESS AIR  28-07-2010      36262  27-07-2010   NOT SPECIFIED  \n",
       "3  REGULAR AIR  26-02-2011      37863  24-02-2011            HIGH  \n",
       "4  REGULAR AIR  03-03-2012      53026  26-02-2012             LOW  \n",
       "\n",
       "[5 rows x 22 columns]"
      ]
     },
     "execution_count": 4,
     "metadata": {},
     "output_type": "execute_result"
    }
   ],
   "source": [
    "# Merging the dataframes one by one\n",
    "df_1 = pd.merge(market_df, customer_df, how='inner', on='Cust_id')\n",
    "df_2 = pd.merge(df_1, product_df, how='inner', on='Prod_id')\n",
    "df_3 = pd.merge(df_2, shipping_df, how='inner', on='Ship_id')\n",
    "master_df = pd.merge(df_3, orders_df, how='inner', on='Ord_id')\n",
    "\n",
    "master_df.head()"
   ]
  },
  {
   "cell_type": "markdown",
   "metadata": {},
   "source": [
    "#### Step 1. Grouping using ```df.groupby()```\n",
    "\n",
    "Typically, you group the data using a categorical variable, such as customer segments, product categories, etc. This creates as many subsets of the data as there are levels in the categorical variable. \n",
    "\n",
    "For example, in this case, we will group the data along ```Customer_Segment```."
   ]
  },
  {
   "cell_type": "code",
   "execution_count": 5,
   "metadata": {},
   "outputs": [
    {
     "data": {
      "text/plain": [
       "<pandas.core.groupby.DataFrameGroupBy object at 0x0000000008CB5588>"
      ]
     },
     "execution_count": 5,
     "metadata": {},
     "output_type": "execute_result"
    }
   ],
   "source": [
    "# Which customer segments are the least profitable? \n",
    "\n",
    "# Step 1. Grouping: First, we will group the dataframe by customer segments\n",
    "df_by_segment = master_df.groupby('Customer_Segment')\n",
    "df_by_segment"
   ]
  },
  {
   "cell_type": "markdown",
   "metadata": {},
   "source": [
    "Note that ```df.groupby``` returns a DataFrameGroupBy object."
   ]
  },
  {
   "cell_type": "markdown",
   "metadata": {},
   "source": [
    "#### Step 2. Applying a Function\n",
    "\n",
    "After grouping, you apply a function to a **numeric variable**, such as ```mean(Sales)```, ```sum(Profit)```, etc. "
   ]
  },
  {
   "cell_type": "code",
   "execution_count": 4,
   "metadata": {},
   "outputs": [
    {
     "data": {
      "text/plain": [
       "Customer_Segment\n",
       "CONSUMER          287959.94\n",
       "CORPORATE         599746.00\n",
       "HOME OFFICE       318354.03\n",
       "SMALL BUSINESS    315708.01\n",
       "Name: Profit, dtype: float64"
      ]
     },
     "execution_count": 4,
     "metadata": {},
     "output_type": "execute_result"
    }
   ],
   "source": [
    "# Step 2. Applying a function\n",
    "# We can choose aggregate functions such as sum, mean, median, etc.\n",
    "df_by_segment['Profit'].sum()"
   ]
  },
  {
   "cell_type": "markdown",
   "metadata": {},
   "source": [
    "Notice that we have indexed the ```Profit``` column in the DataFrameGroupBy object exactly as we index a normal column in a dataframe. Alternatively, you could also use ```df_by_segment.Profit```. "
   ]
  },
  {
   "cell_type": "code",
   "execution_count": 5,
   "metadata": {},
   "outputs": [
    {
     "data": {
      "text/plain": [
       "Customer_Segment\n",
       "CONSUMER          287959.94\n",
       "CORPORATE         599746.00\n",
       "HOME OFFICE       318354.03\n",
       "SMALL BUSINESS    315708.01\n",
       "Name: Profit, dtype: float64"
      ]
     },
     "execution_count": 5,
     "metadata": {},
     "output_type": "execute_result"
    }
   ],
   "source": [
    "# Alternatively\n",
    "df_by_segment.Profit.sum()"
   ]
  },
  {
   "cell_type": "markdown",
   "metadata": {},
   "source": [
    "So this tells us that profits are the least in the CONSUMER segment, and highest in the CORPORATE segment."
   ]
  },
  {
   "cell_type": "code",
   "execution_count": 6,
   "metadata": {},
   "outputs": [
    {
     "data": {
      "text/plain": [
       "Customer_Segment\n",
       "CORPORATE         599746.00\n",
       "HOME OFFICE       318354.03\n",
       "SMALL BUSINESS    315708.01\n",
       "CONSUMER          287959.94\n",
       "Name: Profit, dtype: float64"
      ]
     },
     "execution_count": 6,
     "metadata": {},
     "output_type": "execute_result"
    }
   ],
   "source": [
    "# For better readability, you may want to sort the summarised series:\n",
    "df_by_segment.Profit.sum().sort_values(ascending = False)"
   ]
  },
  {
   "cell_type": "markdown",
   "metadata": {},
   "source": [
    "#### Step 3. Combining the results into a Data Structure\n",
    "\n",
    "You can optionally show the results as a dataframe."
   ]
  },
  {
   "cell_type": "code",
   "execution_count": 7,
   "metadata": {},
   "outputs": [
    {
     "data": {
      "text/html": [
       "<div>\n",
       "<style scoped>\n",
       "    .dataframe tbody tr th:only-of-type {\n",
       "        vertical-align: middle;\n",
       "    }\n",
       "\n",
       "    .dataframe tbody tr th {\n",
       "        vertical-align: top;\n",
       "    }\n",
       "\n",
       "    .dataframe thead th {\n",
       "        text-align: right;\n",
       "    }\n",
       "</style>\n",
       "<table border=\"1\" class=\"dataframe\">\n",
       "  <thead>\n",
       "    <tr style=\"text-align: right;\">\n",
       "      <th></th>\n",
       "      <th>Profit</th>\n",
       "    </tr>\n",
       "    <tr>\n",
       "      <th>Customer_Segment</th>\n",
       "      <th></th>\n",
       "    </tr>\n",
       "  </thead>\n",
       "  <tbody>\n",
       "    <tr>\n",
       "      <th>CONSUMER</th>\n",
       "      <td>287959.94</td>\n",
       "    </tr>\n",
       "    <tr>\n",
       "      <th>CORPORATE</th>\n",
       "      <td>599746.00</td>\n",
       "    </tr>\n",
       "    <tr>\n",
       "      <th>HOME OFFICE</th>\n",
       "      <td>318354.03</td>\n",
       "    </tr>\n",
       "    <tr>\n",
       "      <th>SMALL BUSINESS</th>\n",
       "      <td>315708.01</td>\n",
       "    </tr>\n",
       "  </tbody>\n",
       "</table>\n",
       "</div>"
      ],
      "text/plain": [
       "                     Profit\n",
       "Customer_Segment           \n",
       "CONSUMER          287959.94\n",
       "CORPORATE         599746.00\n",
       "HOME OFFICE       318354.03\n",
       "SMALL BUSINESS    315708.01"
      ]
     },
     "execution_count": 7,
     "metadata": {},
     "output_type": "execute_result"
    }
   ],
   "source": [
    "# Converting to a df\n",
    "pd.DataFrame(df_by_segment['Profit'].sum())"
   ]
  },
  {
   "cell_type": "code",
   "execution_count": 8,
   "metadata": {},
   "outputs": [],
   "source": [
    "# Let's go through some more examples\n",
    "# E.g.: Which product categories are the least profitable?\n",
    "\n",
    "# 1. Group by product category\n",
    "by_product_cat = master_df.groupby('Product_Category')"
   ]
  },
  {
   "cell_type": "code",
   "execution_count": 9,
   "metadata": {},
   "outputs": [
    {
     "data": {
      "text/plain": [
       "Product_Category\n",
       "FURNITURE           68.116607\n",
       "OFFICE SUPPLIES    112.369074\n",
       "TECHNOLOGY         429.207516\n",
       "Name: Profit, dtype: float64"
      ]
     },
     "execution_count": 9,
     "metadata": {},
     "output_type": "execute_result"
    }
   ],
   "source": [
    "# 2. This time, let's compare average profits\n",
    "# Apply mean() on Profit\n",
    "by_product_cat['Profit'].mean()"
   ]
  },
  {
   "cell_type": "markdown",
   "metadata": {},
   "source": [
    "FURNITURE is the least profitable, TECHNOLOGY the most. Let's see which product sub-cetgories within FURNITURE are less profitable."
   ]
  },
  {
   "cell_type": "code",
   "execution_count": 9,
   "metadata": {},
   "outputs": [
    {
     "data": {
      "text/plain": [
       "Product_Category  Product_Sub_Category          \n",
       "FURNITURE         BOOKCASES                         -177.683228\n",
       "                  CHAIRS & CHAIRMATS                 387.693601\n",
       "                  OFFICE FURNISHINGS                 127.446612\n",
       "                  TABLES                            -274.411357\n",
       "OFFICE SUPPLIES   APPLIANCES                         223.866498\n",
       "                  BINDERS AND BINDER ACCESSORIES     335.970918\n",
       "                  ENVELOPES                          195.864228\n",
       "                  LABELS                              47.490174\n",
       "                  PAPER                               36.949551\n",
       "                  PENS & ART SUPPLIES                 11.950679\n",
       "                  RUBBER BANDS                        -0.573575\n",
       "                  SCISSORS, RULERS AND TRIMMERS      -54.161458\n",
       "                  STORAGE & ORGANIZATION              12.205403\n",
       "TECHNOLOGY        COMPUTER PERIPHERALS               124.389815\n",
       "                  COPIERS AND FAX                   1923.695287\n",
       "                  OFFICE MACHINES                    913.094748\n",
       "                  TELEPHONES AND COMMUNICATION       358.948607\n",
       "Name: Profit, dtype: float64"
      ]
     },
     "execution_count": 9,
     "metadata": {},
     "output_type": "execute_result"
    }
   ],
   "source": [
    "# E.g.: Which product categories and sub-categories are the least profitable?\n",
    "# 1. Group by category and sub-category\n",
    "by_product_cat_subcat = master_df.groupby(['Product_Category', 'Product_Sub_Category'])\n",
    "by_product_cat_subcat['Profit'].mean()"
   ]
  },
  {
   "cell_type": "markdown",
   "metadata": {},
   "source": [
    "Thus, within FURNITURE, TABLES are the least profitable, followed by BOOKCASES."
   ]
  },
  {
   "cell_type": "code",
   "execution_count": 10,
   "metadata": {},
   "outputs": [
    {
     "data": {
      "text/html": [
       "<div>\n",
       "<style scoped>\n",
       "    .dataframe tbody tr th:only-of-type {\n",
       "        vertical-align: middle;\n",
       "    }\n",
       "\n",
       "    .dataframe tbody tr th {\n",
       "        vertical-align: top;\n",
       "    }\n",
       "\n",
       "    .dataframe thead th {\n",
       "        text-align: right;\n",
       "    }\n",
       "</style>\n",
       "<table border=\"1\" class=\"dataframe\">\n",
       "  <thead>\n",
       "    <tr style=\"text-align: right;\">\n",
       "      <th></th>\n",
       "      <th></th>\n",
       "      <th>count</th>\n",
       "      <th>mean</th>\n",
       "      <th>std</th>\n",
       "      <th>min</th>\n",
       "      <th>25%</th>\n",
       "      <th>50%</th>\n",
       "      <th>75%</th>\n",
       "      <th>max</th>\n",
       "    </tr>\n",
       "    <tr>\n",
       "      <th>Product_Category</th>\n",
       "      <th>Product_Sub_Category</th>\n",
       "      <th></th>\n",
       "      <th></th>\n",
       "      <th></th>\n",
       "      <th></th>\n",
       "      <th></th>\n",
       "      <th></th>\n",
       "      <th></th>\n",
       "      <th></th>\n",
       "    </tr>\n",
       "  </thead>\n",
       "  <tbody>\n",
       "    <tr>\n",
       "      <th rowspan=\"4\" valign=\"top\">FURNITURE</th>\n",
       "      <th>BOOKCASES</th>\n",
       "      <td>189.0</td>\n",
       "      <td>-177.683228</td>\n",
       "      <td>1707.455501</td>\n",
       "      <td>-11053.60</td>\n",
       "      <td>-662.8000</td>\n",
       "      <td>-305.980</td>\n",
       "      <td>-78.3600</td>\n",
       "      <td>7513.88</td>\n",
       "    </tr>\n",
       "    <tr>\n",
       "      <th>CHAIRS &amp; CHAIRMATS</th>\n",
       "      <td>386.0</td>\n",
       "      <td>387.693601</td>\n",
       "      <td>1482.276988</td>\n",
       "      <td>-3404.24</td>\n",
       "      <td>-300.5225</td>\n",
       "      <td>-64.580</td>\n",
       "      <td>761.3175</td>\n",
       "      <td>8614.79</td>\n",
       "    </tr>\n",
       "    <tr>\n",
       "      <th>OFFICE FURNISHINGS</th>\n",
       "      <td>788.0</td>\n",
       "      <td>127.446612</td>\n",
       "      <td>463.997735</td>\n",
       "      <td>-1570.32</td>\n",
       "      <td>-34.0750</td>\n",
       "      <td>24.955</td>\n",
       "      <td>171.2975</td>\n",
       "      <td>3408.46</td>\n",
       "    </tr>\n",
       "    <tr>\n",
       "      <th>TABLES</th>\n",
       "      <td>361.0</td>\n",
       "      <td>-274.411357</td>\n",
       "      <td>1148.310769</td>\n",
       "      <td>-6474.65</td>\n",
       "      <td>-694.3300</td>\n",
       "      <td>-352.960</td>\n",
       "      <td>31.2100</td>\n",
       "      <td>5626.42</td>\n",
       "    </tr>\n",
       "    <tr>\n",
       "      <th rowspan=\"9\" valign=\"top\">OFFICE SUPPLIES</th>\n",
       "      <th>APPLIANCES</th>\n",
       "      <td>434.0</td>\n",
       "      <td>223.866498</td>\n",
       "      <td>817.377547</td>\n",
       "      <td>-2172.14</td>\n",
       "      <td>-82.1000</td>\n",
       "      <td>6.375</td>\n",
       "      <td>448.6350</td>\n",
       "      <td>5183.04</td>\n",
       "    </tr>\n",
       "    <tr>\n",
       "      <th>BINDERS AND BINDER ACCESSORIES</th>\n",
       "      <td>915.0</td>\n",
       "      <td>335.970918</td>\n",
       "      <td>1349.974000</td>\n",
       "      <td>-961.50</td>\n",
       "      <td>-64.6400</td>\n",
       "      <td>-9.720</td>\n",
       "      <td>72.6650</td>\n",
       "      <td>11535.28</td>\n",
       "    </tr>\n",
       "    <tr>\n",
       "      <th>ENVELOPES</th>\n",
       "      <td>246.0</td>\n",
       "      <td>195.864228</td>\n",
       "      <td>479.703533</td>\n",
       "      <td>-201.60</td>\n",
       "      <td>-6.6925</td>\n",
       "      <td>39.315</td>\n",
       "      <td>204.1200</td>\n",
       "      <td>3187.37</td>\n",
       "    </tr>\n",
       "    <tr>\n",
       "      <th>LABELS</th>\n",
       "      <td>288.0</td>\n",
       "      <td>47.490174</td>\n",
       "      <td>136.013924</td>\n",
       "      <td>-223.50</td>\n",
       "      <td>10.5625</td>\n",
       "      <td>35.770</td>\n",
       "      <td>58.7400</td>\n",
       "      <td>1704.00</td>\n",
       "    </tr>\n",
       "    <tr>\n",
       "      <th>PAPER</th>\n",
       "      <td>1225.0</td>\n",
       "      <td>36.949551</td>\n",
       "      <td>217.200169</td>\n",
       "      <td>-331.63</td>\n",
       "      <td>-69.2900</td>\n",
       "      <td>-14.350</td>\n",
       "      <td>55.8200</td>\n",
       "      <td>1480.15</td>\n",
       "    </tr>\n",
       "    <tr>\n",
       "      <th>PENS &amp; ART SUPPLIES</th>\n",
       "      <td>633.0</td>\n",
       "      <td>11.950679</td>\n",
       "      <td>77.341605</td>\n",
       "      <td>-216.66</td>\n",
       "      <td>-15.0300</td>\n",
       "      <td>0.820</td>\n",
       "      <td>24.6000</td>\n",
       "      <td>502.42</td>\n",
       "    </tr>\n",
       "    <tr>\n",
       "      <th>RUBBER BANDS</th>\n",
       "      <td>179.0</td>\n",
       "      <td>-0.573575</td>\n",
       "      <td>27.420725</td>\n",
       "      <td>-107.00</td>\n",
       "      <td>-11.2900</td>\n",
       "      <td>-1.720</td>\n",
       "      <td>11.7750</td>\n",
       "      <td>84.10</td>\n",
       "    </tr>\n",
       "    <tr>\n",
       "      <th>SCISSORS, RULERS AND TRIMMERS</th>\n",
       "      <td>144.0</td>\n",
       "      <td>-54.161458</td>\n",
       "      <td>202.203379</td>\n",
       "      <td>-1759.58</td>\n",
       "      <td>-64.6675</td>\n",
       "      <td>-31.015</td>\n",
       "      <td>-2.5575</td>\n",
       "      <td>1094.74</td>\n",
       "    </tr>\n",
       "    <tr>\n",
       "      <th>STORAGE &amp; ORGANIZATION</th>\n",
       "      <td>546.0</td>\n",
       "      <td>12.205403</td>\n",
       "      <td>848.234047</td>\n",
       "      <td>-2175.09</td>\n",
       "      <td>-232.1675</td>\n",
       "      <td>-52.410</td>\n",
       "      <td>33.8725</td>\n",
       "      <td>7606.00</td>\n",
       "    </tr>\n",
       "    <tr>\n",
       "      <th rowspan=\"4\" valign=\"top\">TECHNOLOGY</th>\n",
       "      <th>COMPUTER PERIPHERALS</th>\n",
       "      <td>758.0</td>\n",
       "      <td>124.389815</td>\n",
       "      <td>465.143093</td>\n",
       "      <td>-807.59</td>\n",
       "      <td>-79.1475</td>\n",
       "      <td>-17.055</td>\n",
       "      <td>175.1300</td>\n",
       "      <td>4833.27</td>\n",
       "    </tr>\n",
       "    <tr>\n",
       "      <th>COPIERS AND FAX</th>\n",
       "      <td>87.0</td>\n",
       "      <td>1923.695287</td>\n",
       "      <td>4660.287752</td>\n",
       "      <td>-11861.46</td>\n",
       "      <td>-719.4850</td>\n",
       "      <td>631.330</td>\n",
       "      <td>5351.2100</td>\n",
       "      <td>13340.26</td>\n",
       "    </tr>\n",
       "    <tr>\n",
       "      <th>OFFICE MACHINES</th>\n",
       "      <td>337.0</td>\n",
       "      <td>913.094748</td>\n",
       "      <td>3627.391357</td>\n",
       "      <td>-14140.70</td>\n",
       "      <td>-69.6400</td>\n",
       "      <td>239.410</td>\n",
       "      <td>1912.9200</td>\n",
       "      <td>27220.69</td>\n",
       "    </tr>\n",
       "    <tr>\n",
       "      <th>TELEPHONES AND COMMUNICATION</th>\n",
       "      <td>883.0</td>\n",
       "      <td>358.948607</td>\n",
       "      <td>642.970292</td>\n",
       "      <td>-888.16</td>\n",
       "      <td>-94.7950</td>\n",
       "      <td>206.350</td>\n",
       "      <td>667.3900</td>\n",
       "      <td>2763.13</td>\n",
       "    </tr>\n",
       "  </tbody>\n",
       "</table>\n",
       "</div>"
      ],
      "text/plain": [
       "                                                  count         mean  \\\n",
       "Product_Category Product_Sub_Category                                  \n",
       "FURNITURE        BOOKCASES                        189.0  -177.683228   \n",
       "                 CHAIRS & CHAIRMATS               386.0   387.693601   \n",
       "                 OFFICE FURNISHINGS               788.0   127.446612   \n",
       "                 TABLES                           361.0  -274.411357   \n",
       "OFFICE SUPPLIES  APPLIANCES                       434.0   223.866498   \n",
       "                 BINDERS AND BINDER ACCESSORIES   915.0   335.970918   \n",
       "                 ENVELOPES                        246.0   195.864228   \n",
       "                 LABELS                           288.0    47.490174   \n",
       "                 PAPER                           1225.0    36.949551   \n",
       "                 PENS & ART SUPPLIES              633.0    11.950679   \n",
       "                 RUBBER BANDS                     179.0    -0.573575   \n",
       "                 SCISSORS, RULERS AND TRIMMERS    144.0   -54.161458   \n",
       "                 STORAGE & ORGANIZATION           546.0    12.205403   \n",
       "TECHNOLOGY       COMPUTER PERIPHERALS             758.0   124.389815   \n",
       "                 COPIERS AND FAX                   87.0  1923.695287   \n",
       "                 OFFICE MACHINES                  337.0   913.094748   \n",
       "                 TELEPHONES AND COMMUNICATION     883.0   358.948607   \n",
       "\n",
       "                                                         std       min  \\\n",
       "Product_Category Product_Sub_Category                                    \n",
       "FURNITURE        BOOKCASES                       1707.455501 -11053.60   \n",
       "                 CHAIRS & CHAIRMATS              1482.276988  -3404.24   \n",
       "                 OFFICE FURNISHINGS               463.997735  -1570.32   \n",
       "                 TABLES                          1148.310769  -6474.65   \n",
       "OFFICE SUPPLIES  APPLIANCES                       817.377547  -2172.14   \n",
       "                 BINDERS AND BINDER ACCESSORIES  1349.974000   -961.50   \n",
       "                 ENVELOPES                        479.703533   -201.60   \n",
       "                 LABELS                           136.013924   -223.50   \n",
       "                 PAPER                            217.200169   -331.63   \n",
       "                 PENS & ART SUPPLIES               77.341605   -216.66   \n",
       "                 RUBBER BANDS                      27.420725   -107.00   \n",
       "                 SCISSORS, RULERS AND TRIMMERS    202.203379  -1759.58   \n",
       "                 STORAGE & ORGANIZATION           848.234047  -2175.09   \n",
       "TECHNOLOGY       COMPUTER PERIPHERALS             465.143093   -807.59   \n",
       "                 COPIERS AND FAX                 4660.287752 -11861.46   \n",
       "                 OFFICE MACHINES                 3627.391357 -14140.70   \n",
       "                 TELEPHONES AND COMMUNICATION     642.970292   -888.16   \n",
       "\n",
       "                                                      25%      50%        75%  \\\n",
       "Product_Category Product_Sub_Category                                           \n",
       "FURNITURE        BOOKCASES                      -662.8000 -305.980   -78.3600   \n",
       "                 CHAIRS & CHAIRMATS             -300.5225  -64.580   761.3175   \n",
       "                 OFFICE FURNISHINGS              -34.0750   24.955   171.2975   \n",
       "                 TABLES                         -694.3300 -352.960    31.2100   \n",
       "OFFICE SUPPLIES  APPLIANCES                      -82.1000    6.375   448.6350   \n",
       "                 BINDERS AND BINDER ACCESSORIES  -64.6400   -9.720    72.6650   \n",
       "                 ENVELOPES                        -6.6925   39.315   204.1200   \n",
       "                 LABELS                           10.5625   35.770    58.7400   \n",
       "                 PAPER                           -69.2900  -14.350    55.8200   \n",
       "                 PENS & ART SUPPLIES             -15.0300    0.820    24.6000   \n",
       "                 RUBBER BANDS                    -11.2900   -1.720    11.7750   \n",
       "                 SCISSORS, RULERS AND TRIMMERS   -64.6675  -31.015    -2.5575   \n",
       "                 STORAGE & ORGANIZATION         -232.1675  -52.410    33.8725   \n",
       "TECHNOLOGY       COMPUTER PERIPHERALS            -79.1475  -17.055   175.1300   \n",
       "                 COPIERS AND FAX                -719.4850  631.330  5351.2100   \n",
       "                 OFFICE MACHINES                 -69.6400  239.410  1912.9200   \n",
       "                 TELEPHONES AND COMMUNICATION    -94.7950  206.350   667.3900   \n",
       "\n",
       "                                                      max  \n",
       "Product_Category Product_Sub_Category                      \n",
       "FURNITURE        BOOKCASES                        7513.88  \n",
       "                 CHAIRS & CHAIRMATS               8614.79  \n",
       "                 OFFICE FURNISHINGS               3408.46  \n",
       "                 TABLES                           5626.42  \n",
       "OFFICE SUPPLIES  APPLIANCES                       5183.04  \n",
       "                 BINDERS AND BINDER ACCESSORIES  11535.28  \n",
       "                 ENVELOPES                        3187.37  \n",
       "                 LABELS                           1704.00  \n",
       "                 PAPER                            1480.15  \n",
       "                 PENS & ART SUPPLIES               502.42  \n",
       "                 RUBBER BANDS                       84.10  \n",
       "                 SCISSORS, RULERS AND TRIMMERS    1094.74  \n",
       "                 STORAGE & ORGANIZATION           7606.00  \n",
       "TECHNOLOGY       COMPUTER PERIPHERALS             4833.27  \n",
       "                 COPIERS AND FAX                 13340.26  \n",
       "                 OFFICE MACHINES                 27220.69  \n",
       "                 TELEPHONES AND COMMUNICATION     2763.13  "
      ]
     },
     "execution_count": 10,
     "metadata": {},
     "output_type": "execute_result"
    }
   ],
   "source": [
    "# Recall the df.describe() method?\n",
    "# To apply multiple functions simultaneously, you can use the describe() function on the grouped df object\n",
    "by_product_cat_subcat['Profit'].describe()"
   ]
  },
  {
   "cell_type": "code",
   "execution_count": 12,
   "metadata": {},
   "outputs": [
    {
     "data": {
      "text/plain": [
       "Product_Category\n",
       "FURNITURE          1724\n",
       "OFFICE SUPPLIES    4610\n",
       "TECHNOLOGY         2065\n",
       "Name: Profit, dtype: int64"
      ]
     },
     "execution_count": 12,
     "metadata": {},
     "output_type": "execute_result"
    }
   ],
   "source": [
    "# Some other summary functions to apply on groups\n",
    "by_product_cat['Profit'].count()"
   ]
  },
  {
   "cell_type": "code",
   "execution_count": 13,
   "metadata": {},
   "outputs": [
    {
     "data": {
      "text/plain": [
       "Product_Category\n",
       "FURNITURE         -11053.60\n",
       "OFFICE SUPPLIES    -2175.09\n",
       "TECHNOLOGY        -14140.70\n",
       "Name: Profit, dtype: float64"
      ]
     },
     "execution_count": 13,
     "metadata": {},
     "output_type": "execute_result"
    }
   ],
   "source": [
    "by_product_cat['Profit'].min()"
   ]
  },
  {
   "cell_type": "code",
   "execution_count": 14,
   "metadata": {},
   "outputs": [
    {
     "data": {
      "text/plain": [
       "Region\n",
       "ATLANTIC                 221.259870\n",
       "NORTHWEST TERRITORIES    255.464670\n",
       "NUNAVUT                   35.963418\n",
       "ONTARIO                  189.960865\n",
       "PRARIE                   188.253294\n",
       "QUEBEC                   179.803649\n",
       "WEST                     149.175595\n",
       "YUKON                    136.253155\n",
       "Name: Profit, dtype: float64"
      ]
     },
     "execution_count": 14,
     "metadata": {},
     "output_type": "execute_result"
    }
   ],
   "source": [
    "# E.g. Customers in which geographic region are the least profitable?\n",
    "master_df.groupby('Region').Profit.mean()"
   ]
  },
  {
   "cell_type": "code",
   "execution_count": 15,
   "metadata": {},
   "outputs": [
    {
     "data": {
      "text/plain": [
       "Region\n",
       "ATLANTIC                 13.504305\n",
       "NORTHWEST TERRITORIES     5.369193\n",
       "NUNAVUT                   0.780233\n",
       "ONTARIO                  20.536970\n",
       "PRARIE                   19.022396\n",
       "QUEBEC                   10.124936\n",
       "WEST                     24.119372\n",
       "YUKON                     6.542595\n",
       "Name: Sales, dtype: float64"
      ]
     },
     "execution_count": 15,
     "metadata": {},
     "output_type": "execute_result"
    }
   ],
   "source": [
    "# Note that the resulting object is a Series, thus you can perform vectorised computations on them\n",
    "\n",
    "# E.g. Calculate the Sales across each region as a percentage of total Sales\n",
    "# You can divide the entire series by a number (total sales) easily \n",
    "(master_df.groupby('Region').Sales.sum() / sum(master_df['Sales']))*100"
   ]
  },
  {
   "cell_type": "markdown",
   "metadata": {},
   "source": [
    "The regions ONTARIO, WEST and PRARIE comprise of about 64% of the sales."
   ]
  },
  {
   "cell_type": "markdown",
   "metadata": {},
   "source": [
    "Until now, we've been working with the data without making changes or additions to it. In the next section, we will create new columns, alter existing columns and apply some more grouping and summarising.\n",
    "\n"
   ]
  }
 ],
 "metadata": {
  "kernelspec": {
   "display_name": "Python 3",
   "language": "python",
   "name": "python3"
  },
  "language_info": {
   "codemirror_mode": {
    "name": "ipython",
    "version": 3
   },
   "file_extension": ".py",
   "mimetype": "text/x-python",
   "name": "python",
   "nbconvert_exporter": "python",
   "pygments_lexer": "ipython3",
   "version": "3.6.4"
  }
 },
 "nbformat": 4,
 "nbformat_minor": 2
}
